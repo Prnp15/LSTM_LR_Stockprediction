{
  "nbformat": 4,
  "nbformat_minor": 0,
  "metadata": {
    "colab": {
      "provenance": []
    },
    "kernelspec": {
      "name": "python3",
      "display_name": "Python 3"
    },
    "language_info": {
      "name": "python"
    }
  },
  "cells": [
    {
      "cell_type": "code",
      "execution_count": null,
      "metadata": {
        "colab": {
          "base_uri": "https://localhost:8080/"
        },
        "id": "iERW3w3Hc1XI",
        "outputId": "e3747a7b-4da4-4cdb-a110-d33ed8812002"
      },
      "outputs": [
        {
          "output_type": "stream",
          "name": "stdout",
          "text": [
            "Looking in indexes: https://pypi.org/simple, https://us-python.pkg.dev/colab-wheels/public/simple/\n",
            "Collecting talib-binary\n",
            "  Downloading talib_binary-0.4.19-cp37-cp37m-manylinux1_x86_64.whl (2.4 MB)\n",
            "\u001b[K     |████████████████████████████████| 2.4 MB 27.9 MB/s \n",
            "\u001b[?25hRequirement already satisfied: numpy in /usr/local/lib/python3.7/dist-packages (from talib-binary) (1.21.6)\n",
            "Installing collected packages: talib-binary\n",
            "Successfully installed talib-binary-0.4.19\n"
          ]
        }
      ],
      "source": [
        "!pip install talib-binary"
      ]
    },
    {
      "cell_type": "code",
      "source": [
        "import numpy as np\n",
        "from sklearn.linear_model import LinearRegression\n",
        "from sklearn.tree import DecisionTreeRegressor\n",
        "import matplotlib.pyplot as plt\n",
        "import pandas as pd\n",
        "from datetime import datetime\n",
        "from sklearn import svm,metrics\n",
        "from sklearn.metrics import roc_auc_score\n",
        "from sklearn.model_selection import train_test_split\n",
        "from sklearn.linear_model import LinearRegression\n",
        "from sklearn.metrics import mean_squared_error, r2_score, mean_absolute_error\n",
        "import talib as ta\n",
        "import math\n",
        "from sklearn.metrics import mean_squared_error, r2_score, mean_absolute_error,\n",
        " mean_absolute_percentage_error,average_precision_score,roc_auc_score\n",
        "from sklearn.preprocessing import MinMaxScaler\n"
      ],
      "metadata": {
        "id": "doPYEBgNc6bn"
      },
      "execution_count": null,
      "outputs": []
    },
    {
      "cell_type": "code",
      "source": [
        "# #Prepair Data\n",
        "# dfo = pd.read_csv ('SET 50 Historical Data.csv')\n",
        "# df = pd.DataFrame([price for price in dfo['Price']], columns = ['price'])\n",
        "# df = df.iloc[::-1]\n",
        "# df['price'] = df['price'].replace({'\\$': '', ',': ''}, regex=True).astype(float)\n",
        "# df['EMA10']= ta.EMA(df['price'],10)\n"
      ],
      "metadata": {
        "id": "Tv1J6Ff3IPCr"
      },
      "execution_count": null,
      "outputs": []
    },
    {
      "cell_type": "code",
      "source": [
        "dfo = pd.read_csv ('CPALL.BK.csv')\n",
        "df = pd.DataFrame([price for price in dfo['Adj Close']], columns = ['price'])\n",
        "\n",
        "df['price'] = df['price'].replace({'\\$': '', ',': ''}, regex=True).astype(float)\n",
        "\n",
        "ema_day = 21\n",
        "predictday = 14\n",
        "df['Forecast prices']= df['price'].shift(-predictday)\n",
        "df['EMA10']= ta.EMA(df['price'],10)\n",
        "df['EMA21']= ta.EMA(df['price'],ema_day)\n",
        "df['RSI'] = ta.RSI(df['price'], 14)\n",
        "\n",
        "df=df.iloc[ema_day-1:]\n",
        "df=df.iloc[:-predictday]\n",
        "#_______________________\n",
        "X = df.drop(columns=['Forecast prices'],axis=1)\n",
        "\n",
        "Y = df['Forecast prices']\n",
        "X_train, X_test, y_train, y_test = train_test_split(X, Y, test_size=0.2,shuffle=False)\n",
        "\n",
        "model = LinearRegression()\n",
        "model.fit(X_train, y_train)\n",
        "\n",
        "test_predict = model.predict(X_test)\n",
        "\n",
        "test_predict=np.array(test_predict)\n",
        "print(\"Model Coefficients:\", model.coef_)\n",
        "print(\"Coefficient of Determination:\", r2_score(y_test, test_predict))\n",
        "print(\"Mean Absolute Error:\", mean_absolute_error(y_test, test_predict))\n",
        "print(\"Mean Absolute Percentage Error:\", mean_absolute_percentage_error(y_test,test_predict))\n",
        "print(\"Mean Squared Error:\", mean_squared_error(y_test, test_predict))\n",
        "print(\"Root Mean Squared Error:\",math.sqrt(mean_squared_error(y_test, test_predict)))"
      ],
      "metadata": {
        "colab": {
          "base_uri": "https://localhost:8080/"
        },
        "id": "F5EnKrvEdEKR",
        "outputId": "50f23bf2-acd9-4327-d9f8-7d4ccdedbc08"
      },
      "execution_count": null,
      "outputs": [
        {
          "output_type": "stream",
          "name": "stdout",
          "text": [
            "Model Coefficients: [ 0.32102936  0.80206683 -0.23341638  0.07058352]\n",
            "Coefficient of Determination: -0.25328501053884733\n",
            "Mean Absolute Error: 2.499649452682632\n",
            "Mean Absolute Percentage Error: 0.04113732642067465\n",
            "Mean Squared Error: 11.428223011209628\n",
            "Root Mean Squared Error: 3.3805654868985497\n"
          ]
        }
      ]
    },
    {
      "cell_type": "code",
      "source": [
        "xf = X.tail(predictday)\n",
        "\n",
        "xf = np.array(xf)\n",
        "\n",
        "xf\n",
        "dfoo = dfo\n",
        "#dfoo = dfo.iloc[::-1]\n",
        "p = dfoo['Adj Close'].tail(predictday)\n",
        "p = np.array(p).astype(float)\n",
        "test_predict = model.predict(xf)\n",
        "#print(p)\n",
        "plt.plot(test_predict,'b',label=\"predict\")\n",
        "plt.plot(p,'r',label=\"actual\")\n",
        "plt.xlabel(\"Time\")\n",
        "plt.ylabel(\"Price\")\n",
        "plt.grid(color='black', linestyle='-', linewidth=0.2)\n",
        "leg = plt.legend(loc='upper center')\n",
        "\n",
        "plt.title(\"CPALL LR\")\n",
        "plt.show()\n",
        "print(\"Coefficient of Determination:\", r2_score(p, test_predict))\n",
        "print(\"Mean Absolute Error:\", mean_absolute_error(p, test_predict))\n",
        "print(\"Mean Absolute Percentage Error:\", mean_absolute_percentage_error(p,test_predict))\n",
        "print(\"Mean Squared Error:\", mean_squared_error(p, test_predict))\n",
        "print(\"Root Mean Squared Error:\",math.sqrt(mean_squared_error(p, test_predict)))\n",
        "\n",
        "y_test2 = np.array(p).reshape(-1,1)\n",
        "count = 0\n",
        "for i in range (len(y_test2)):\n",
        "  if (y_test2[i]-y_test2[i-1]>0)==(test_predict[i]-test_predict[i-1]>0)or(y_test2[i]-y_test2[i-1]>0)==(test_predict[i]-test_predict[i-1]>0):\n",
        "    count = count+1\n",
        "Acc =  (count*100)/(len(test_predict))\n",
        "print('Accuracy',Acc,'%')"
      ],
      "metadata": {
        "colab": {
          "base_uri": "https://localhost:8080/",
          "height": 506
        },
        "id": "AkndIOHb1ghU",
        "outputId": "d5c93739-8861-4d2b-ed20-2a961c4708ef"
      },
      "execution_count": null,
      "outputs": [
        {
          "output_type": "stream",
          "name": "stderr",
          "text": [
            "/usr/local/lib/python3.7/dist-packages/sklearn/base.py:451: UserWarning: X does not have valid feature names, but LinearRegression was fitted with feature names\n",
            "  \"X does not have valid feature names, but\"\n"
          ]
        },
        {
          "output_type": "display_data",
          "data": {
            "text/plain": [
              "<Figure size 720x360 with 1 Axes>"
            ],
            "image/png": "[encoded data removed]"
          },
          "metadata": {
            "needs_background": "light"
          }
        },
        {
          "output_type": "stream",
          "name": "stdout",
          "text": [
            "Coefficient of Determination: -24.052021241602162\n",
            "Mean Absolute Error: 1.9562968724502139\n",
            "Mean Absolute Percentage Error: 0.0334326549983561\n",
            "Mean Squared Error: 8.282050913382749\n",
            "Root Mean Squared Error: 2.877855262757797\n",
            "Accuracy 71.42857142857143 %\n"
          ]
        }
      ]
    },
    {
      "cell_type": "code",
      "source": [
        "\n",
        "plt.plot(y_test,'r',label=\"actual\")\n",
        "plt.grid(color='black', linestyle='-', linewidth=0.2)\n",
        "plt.rcParams[\"figure.figsize\"] = [10,5]\n",
        "plt.plot(test_predict,'b',label=\"predict\")\n",
        "plt.xlabel(\"Time\")\n",
        "plt.ylabel(\"Price\")\n",
        "\n",
        "leg = plt.legend(loc='upper center')\n",
        "plt.title(\"PTTEP LR\")\n",
        "plt.show()"
      ],
      "metadata": {
        "colab": {
          "base_uri": "https://localhost:8080/",
          "height": 350
        },
        "id": "2UESX8MUlOtG",
        "outputId": "e40a18e3-21d8-47f7-ad4c-8065c41b5e26"
      },
      "execution_count": null,
      "outputs": [
        {
          "output_type": "display_data",
          "data": {
            "text/plain": [
              "<Figure size 720x360 with 1 Axes>"
            ],
            "image/png": "[encoded data removed]"
          },
          "metadata": {
            "needs_background": "light"
          }
        }
      ]
    },
    {
      "cell_type": "code",
      "source": [
        "y_test2 = np.array(y_test).reshape(-1,1)\n",
        "count = 0\n",
        "for i in range (len(y_test2)):\n",
        "  if (y_test2[i]-y_test2[i-1]>0)==(test_predict[i]-test_predict[i-1]>0)or(y_test2[i]-y_test2[i-1]>0)==(test_predict[i]-test_predict[i-1]>0):\n",
        "    count = count+1\n",
        "Acc =  (count*100)/(len(test_predict)-1)\n",
        "print('Accuracy',Acc,'%')\n",
        "    \n"
      ],
      "metadata": {
        "colab": {
          "base_uri": "https://localhost:8080/"
        },
        "id": "PoBUWGHDlQtp",
        "outputId": "60de345a-1a6c-4622-97e6-ae7e21b934a1"
      },
      "execution_count": null,
      "outputs": [
        {
          "output_type": "stream",
          "name": "stdout",
          "text": [
            "Accuracy 56.72268907563025 %\n"
          ]
        }
      ]
    },
    {
      "cell_type": "code",
      "source": [
        "df"
      ],
      "metadata": {
        "colab": {
          "base_uri": "https://localhost:8080/",
          "height": 419
        },
        "id": "I4wFBulLcdR0",
        "outputId": "60a68c01-8b24-4f96-83a4-077eae0b4392"
      },
      "execution_count": null,
      "outputs": [
        {
          "output_type": "execute_result",
          "data": {
            "text/plain": [
              "       price    lagg       EMA10       EMA21        RSI\n",
              "1196  984.71  985.93  986.519550  982.720476  50.018229\n",
              "1195  982.41  983.41  985.772359  982.692251  47.979388\n",
              "1194  990.97  975.54  986.717385  983.444774  55.284745\n",
              "1193  996.40  974.53  988.477860  984.622522  59.198987\n",
              "1192  991.30  980.14  988.990977  985.229565  54.383766\n",
              "...      ...     ...         ...         ...        ...\n",
              "24    989.19  975.13  985.861106  983.454479  58.733232\n",
              "23    987.60  975.51  986.177269  983.831344  56.409570\n",
              "22    961.93  982.48  981.768674  981.840313  33.420687\n",
              "21    948.28  989.30  975.679824  978.789376  27.096913\n",
              "20    935.08  990.75  968.298038  974.815796  22.636319\n",
              "\n",
              "[1177 rows x 5 columns]"
            ],
            "text/html": [
              "\n",
              "  <div id=\"df-ededc13c-51f8-4134-aa89-bec8fecc66af\">\n",
              "    <div class=\"colab-df-container\">\n",
              "      <div>\n",
              "<style scoped>\n",
              "    .dataframe tbody tr th:only-of-type {\n",
              "        vertical-align: middle;\n",
              "    }\n",
              "\n",
              "    .dataframe tbody tr th {\n",
              "        vertical-align: top;\n",
              "    }\n",
              "\n",
              "    .dataframe thead th {\n",
              "        text-align: right;\n",
              "    }\n",
              "</style>\n",
              "<table border=\"1\" class=\"dataframe\">\n",
              "  <thead>\n",
              "    <tr style=\"text-align: right;\">\n",
              "      <th></th>\n",
              "      <th>price</th>\n",
              "      <th>lagg</th>\n",
              "      <th>EMA10</th>\n",
              "      <th>EMA21</th>\n",
              "      <th>RSI</th>\n",
              "    </tr>\n",
              "  </thead>\n",
              "  <tbody>\n",
              "    <tr>\n",
              "      <th>1196</th>\n",
              "      <td>984.71</td>\n",
              "      <td>985.93</td>\n",
              "      <td>986.519550</td>\n",
              "      <td>982.720476</td>\n",
              "      <td>50.018229</td>\n",
              "    </tr>\n",
              "    <tr>\n",
              "      <th>1195</th>\n",
              "      <td>982.41</td>\n",
              "      <td>983.41</td>\n",
              "      <td>985.772359</td>\n",
              "      <td>982.692251</td>\n",
              "      <td>47.979388</td>\n",
              "    </tr>\n",
              "    <tr>\n",
              "      <th>1194</th>\n",
              "      <td>990.97</td>\n",
              "      <td>975.54</td>\n",
              "      <td>986.717385</td>\n",
              "      <td>983.444774</td>\n",
              "      <td>55.284745</td>\n",
              "    </tr>\n",
              "    <tr>\n",
              "      <th>1193</th>\n",
              "      <td>996.40</td>\n",
              "      <td>974.53</td>\n",
              "      <td>988.477860</td>\n",
              "      <td>984.622522</td>\n",
              "      <td>59.198987</td>\n",
              "    </tr>\n",
              "    <tr>\n",
              "      <th>1192</th>\n",
              "      <td>991.30</td>\n",
              "      <td>980.14</td>\n",
              "      <td>988.990977</td>\n",
              "      <td>985.229565</td>\n",
              "      <td>54.383766</td>\n",
              "    </tr>\n",
              "    <tr>\n",
              "      <th>...</th>\n",
              "      <td>...</td>\n",
              "      <td>...</td>\n",
              "      <td>...</td>\n",
              "      <td>...</td>\n",
              "      <td>...</td>\n",
              "    </tr>\n",
              "    <tr>\n",
              "      <th>24</th>\n",
              "      <td>989.19</td>\n",
              "      <td>975.13</td>\n",
              "      <td>985.861106</td>\n",
              "      <td>983.454479</td>\n",
              "      <td>58.733232</td>\n",
              "    </tr>\n",
              "    <tr>\n",
              "      <th>23</th>\n",
              "      <td>987.60</td>\n",
              "      <td>975.51</td>\n",
              "      <td>986.177269</td>\n",
              "      <td>983.831344</td>\n",
              "      <td>56.409570</td>\n",
              "    </tr>\n",
              "    <tr>\n",
              "      <th>22</th>\n",
              "      <td>961.93</td>\n",
              "      <td>982.48</td>\n",
              "      <td>981.768674</td>\n",
              "      <td>981.840313</td>\n",
              "      <td>33.420687</td>\n",
              "    </tr>\n",
              "    <tr>\n",
              "      <th>21</th>\n",
              "      <td>948.28</td>\n",
              "      <td>989.30</td>\n",
              "      <td>975.679824</td>\n",
              "      <td>978.789376</td>\n",
              "      <td>27.096913</td>\n",
              "    </tr>\n",
              "    <tr>\n",
              "      <th>20</th>\n",
              "      <td>935.08</td>\n",
              "      <td>990.75</td>\n",
              "      <td>968.298038</td>\n",
              "      <td>974.815796</td>\n",
              "      <td>22.636319</td>\n",
              "    </tr>\n",
              "  </tbody>\n",
              "</table>\n",
              "<p>1177 rows × 5 columns</p>\n",
              "</div>\n",
              "      <button class=\"colab-df-convert\" onclick=\"convertToInteractive('df-ededc13c-51f8-4134-aa89-bec8fecc66af')\"\n",
              "              title=\"Convert this dataframe to an interactive table.\"\n",
              "              style=\"display:none;\">\n",
              "        \n",
              "  <svg xmlns=\"http://www.w3.org/2000/svg\" height=\"24px\"viewBox=\"0 0 24 24\"\n",
              "       width=\"24px\">\n",
              "    <path d=\"M0 0h24v24H0V0z\" fill=\"none\"/>\n",
              "    <path d=\"M18.56 5.44l.94 2.06.94-2.06 2.06-.94-2.06-.94-.94-2.06-.94 2.06-2.06.94zm-11 1L8.5 8.5l.94-2.06 2.06-.94-2.06-.94L8.5 2.5l-.94 2.06-2.06.94zm10 10l.94 2.06.94-2.06 2.06-.94-2.06-.94-.94-2.06-.94 2.06-2.06.94z\"/><path d=\"M17.41 7.96l-1.37-1.37c-.4-.4-.92-.59-1.43-.59-.52 0-1.04.2-1.43.59L10.3 9.45l-7.72 7.72c-.78.78-.78 2.05 0 2.83L4 21.41c.39.39.9.59 1.41.59.51 0 1.02-.2 1.41-.59l7.78-7.78 2.81-2.81c.8-.78.8-2.07 0-2.86zM5.41 20L4 18.59l7.72-7.72 1.47 1.35L5.41 20z\"/>\n",
              "  </svg>\n",
              "      </button>\n",
              "      \n",
              "  <style>\n",
              "    .colab-df-container {\n",
              "      display:flex;\n",
              "      flex-wrap:wrap;\n",
              "      gap: 12px;\n",
              "    }\n",
              "\n",
              "    .colab-df-convert {\n",
              "      background-color: #E8F0FE;\n",
              "      border: none;\n",
              "      border-radius: 50%;\n",
              "      cursor: pointer;\n",
              "      display: none;\n",
              "      fill: #1967D2;\n",
              "      height: 32px;\n",
              "      padding: 0 0 0 0;\n",
              "      width: 32px;\n",
              "    }\n",
              "\n",
              "    .colab-df-convert:hover {\n",
              "      background-color: #E2EBFA;\n",
              "      box-shadow: 0px 1px 2px rgba(60, 64, 67, 0.3), 0px 1px 3px 1px rgba(60, 64, 67, 0.15);\n",
              "      fill: #174EA6;\n",
              "    }\n",
              "\n",
              "    [theme=dark] .colab-df-convert {\n",
              "      background-color: #3B4455;\n",
              "      fill: #D2E3FC;\n",
              "    }\n",
              "\n",
              "    [theme=dark] .colab-df-convert:hover {\n",
              "      background-color: #434B5C;\n",
              "      box-shadow: 0px 1px 3px 1px rgba(0, 0, 0, 0.15);\n",
              "      filter: drop-shadow(0px 1px 2px rgba(0, 0, 0, 0.3));\n",
              "      fill: #FFFFFF;\n",
              "    }\n",
              "  </style>\n",
              "\n",
              "      <script>\n",
              "        const buttonEl =\n",
              "          document.querySelector('#df-ededc13c-51f8-4134-aa89-bec8fecc66af button.colab-df-convert');\n",
              "        buttonEl.style.display =\n",
              "          google.colab.kernel.accessAllowed ? 'block' : 'none';\n",
              "\n",
              "        async function convertToInteractive(key) {\n",
              "          const element = document.querySelector('#df-ededc13c-51f8-4134-aa89-bec8fecc66af');\n",
              "          const dataTable =\n",
              "            await google.colab.kernel.invokeFunction('convertToInteractive',\n",
              "                                                     [key], {});\n",
              "          if (!dataTable) return;\n",
              "\n",
              "          const docLinkHtml = 'Like what you see? Visit the ' +\n",
              "            '<a target=\"_blank\" href=https://colab.research.google.com/notebooks/data_table.ipynb>data table notebook</a>'\n",
              "            + ' to learn more about interactive tables.';\n",
              "          element.innerHTML = '';\n",
              "          dataTable['output_type'] = 'display_data';\n",
              "          await google.colab.output.renderOutput(dataTable, element);\n",
              "          const docLink = document.createElement('div');\n",
              "          docLink.innerHTML = docLinkHtml;\n",
              "          element.appendChild(docLink);\n",
              "        }\n",
              "      </script>\n",
              "    </div>\n",
              "  </div>\n",
              "  "
            ]
          },
          "metadata": {},
          "execution_count": 18
        }
      ]
    },
    {
      "cell_type": "code",
      "source": [
        "plt.scatter(test_predict, y_test, color=\"black\")\n",
        "#lt.plot(X_train['EMA10'], y_train, color=\"blue\", linewidth=3)\n",
        "\n",
        "m, b = np.polyfit(test_predict, y_test, 1)\n",
        "plt.plot(test_predict, m*test_predict+b, color='red')\n",
        "plt.show()"
      ],
      "metadata": {
        "colab": {
          "base_uri": "https://localhost:8080/",
          "height": 320
        },
        "id": "iL39DL-NceAA",
        "outputId": "3868579e-a015-42c8-c112-45f9d7667322"
      },
      "execution_count": null,
      "outputs": [
        {
          "output_type": "display_data",
          "data": {
            "text/plain": [
              "<Figure size 720x360 with 1 Axes>"
            ],
            "image/png": "[encoded data removed]"
          },
          "metadata": {
            "needs_background": "light"
          }
        }
      ]
    },
    {
      "cell_type": "code",
      "source": [
        "test_predict.size"
      ],
      "metadata": {
        "colab": {
          "base_uri": "https://localhost:8080/"
        },
        "id": "gAT7tZaVceC0",
        "outputId": "0a38c93e-b57a-470e-93e6-0c037b6c3b0d"
      },
      "execution_count": null,
      "outputs": [
        {
          "output_type": "execute_result",
          "data": {
            "text/plain": [
              "235"
            ]
          },
          "metadata": {},
          "execution_count": 300
        }
      ]
    },
    {
      "cell_type": "code",
      "source": [
        "test_predict.reshape(-1,1)"
      ],
      "metadata": {
        "colab": {
          "base_uri": "https://localhost:8080/"
        },
        "id": "ThbE0C7mceFs",
        "outputId": "6102f10b-46b6-4e31-c514-671ac450f3bb"
      },
      "execution_count": null,
      "outputs": [
        {
          "output_type": "execute_result",
          "data": {
            "text/plain": [
              "array([[ 94.15765298],\n",
              "       [ 93.26652124],\n",
              "       [ 93.43442315],\n",
              "       [ 94.00882997],\n",
              "       [ 93.59822649],\n",
              "       [ 92.08715522],\n",
              "       [ 87.77139872],\n",
              "       [ 89.3364391 ],\n",
              "       [ 87.38076024],\n",
              "       [ 87.96518914],\n",
              "       [ 88.75796465],\n",
              "       [ 87.39084071],\n",
              "       [ 90.04856075],\n",
              "       [ 90.51271552],\n",
              "       [ 90.97962883],\n",
              "       [ 92.13655104],\n",
              "       [ 95.96813308],\n",
              "       [ 95.41969912],\n",
              "       [ 95.85054101],\n",
              "       [ 94.79485315],\n",
              "       [ 97.75202314],\n",
              "       [101.89800035],\n",
              "       [102.28224735],\n",
              "       [100.24765272],\n",
              "       [100.37095766],\n",
              "       [102.03024241],\n",
              "       [101.6180899 ],\n",
              "       [101.7690635 ],\n",
              "       [100.79327598],\n",
              "       [ 99.84226349],\n",
              "       [101.28658382],\n",
              "       [ 99.24134546],\n",
              "       [ 97.33908286],\n",
              "       [ 93.32354902],\n",
              "       [ 96.2334653 ],\n",
              "       [ 96.76647113],\n",
              "       [ 97.2821734 ],\n",
              "       [ 98.67586342],\n",
              "       [ 98.70592368],\n",
              "       [ 99.19691528],\n",
              "       [100.58711836],\n",
              "       [100.60966698],\n",
              "       [101.10394448],\n",
              "       [104.1875945 ],\n",
              "       [103.07035401],\n",
              "       [102.00295732],\n",
              "       [102.96541519],\n",
              "       [100.31879897],\n",
              "       [ 99.38012545],\n",
              "       [102.67002492],\n",
              "       [102.19401555],\n",
              "       [103.57417728],\n",
              "       [105.98251948],\n",
              "       [103.35759352],\n",
              "       [104.30722186],\n",
              "       [104.3770366 ],\n",
              "       [106.61668689],\n",
              "       [109.10818506],\n",
              "       [109.16160002],\n",
              "       [108.66523761],\n",
              "       [109.59527927],\n",
              "       [109.10264317],\n",
              "       [109.65093642],\n",
              "       [105.76769099],\n",
              "       [107.73254482],\n",
              "       [106.25403564],\n",
              "       [104.83698024],\n",
              "       [104.44651246],\n",
              "       [103.04717704],\n",
              "       [102.64335594],\n",
              "       [104.26789115],\n",
              "       [103.78699512],\n",
              "       [104.85853488],\n",
              "       [104.3328792 ],\n",
              "       [104.34649949],\n",
              "       [104.91226563],\n",
              "       [106.53523024],\n",
              "       [104.24128951],\n",
              "       [103.70914531],\n",
              "       [101.13532294],\n",
              "       [101.74323613],\n",
              "       [101.74424334],\n",
              "       [106.58344312],\n",
              "       [105.982737  ],\n",
              "       [105.9551922 ],\n",
              "       [104.80805674],\n",
              "       [104.80944271],\n",
              "       [103.12728437],\n",
              "       [104.28555462],\n",
              "       [104.84913111],\n",
              "       [106.48462027],\n",
              "       [108.49814835],\n",
              "       [109.44237302],\n",
              "       [107.59663098],\n",
              "       [109.558542  ],\n",
              "       [110.04559463],\n",
              "       [111.45174326],\n",
              "       [110.8485328 ],\n",
              "       [109.04710593],\n",
              "       [109.12378184],\n",
              "       [108.57228662],\n",
              "       [108.01995235],\n",
              "       [110.70104173],\n",
              "       [108.90593466],\n",
              "       [105.17143463],\n",
              "       [105.79660129],\n",
              "       [106.39794189],\n",
              "       [108.03364004],\n",
              "       [106.42352116],\n",
              "       [106.99152965],\n",
              "       [108.07914782],\n",
              "       [109.12968103],\n",
              "       [110.15030237],\n",
              "       [110.15122402],\n",
              "       [109.53287   ],\n",
              "       [110.62700422],\n",
              "       [110.64709746],\n",
              "       [109.34717885],\n",
              "       [110.51247633],\n",
              "       [109.23494816],\n",
              "       [108.63729822],\n",
              "       [110.41678759],\n",
              "       [109.78356902],\n",
              "       [106.79970092],\n",
              "       [105.75114254],\n",
              "       [108.16443877],\n",
              "       [108.17105914],\n",
              "       [109.32528071],\n",
              "       [109.88588968],\n",
              "       [108.05822942],\n",
              "       [108.07189466],\n",
              "       [105.78900199],\n",
              "       [107.05163433],\n",
              "       [107.05112807],\n",
              "       [108.28713561],\n",
              "       [111.08016664],\n",
              "       [107.58323621],\n",
              "       [103.68402569],\n",
              "       [102.38382573],\n",
              "       [101.53102254],\n",
              "       [103.77691012],\n",
              "       [101.52397756],\n",
              "       [100.6377019 ],\n",
              "       [102.25136626],\n",
              "       [100.02251887],\n",
              "       [ 98.32057748],\n",
              "       [ 98.81341658],\n",
              "       [ 99.2875259 ],\n",
              "       [ 98.74717106],\n",
              "       [ 97.77657533],\n",
              "       [ 98.27637596],\n",
              "       [ 94.43984063],\n",
              "       [ 97.17400521],\n",
              "       [ 97.04550853],\n",
              "       [ 97.47991008],\n",
              "       [ 96.0391394 ],\n",
              "       [ 95.92214256],\n",
              "       [ 96.4081583 ],\n",
              "       [ 98.05928242],\n",
              "       [ 96.95452447],\n",
              "       [ 96.36303262],\n",
              "       [ 98.08159078],\n",
              "       [ 96.96517336],\n",
              "       [ 97.48832145],\n",
              "       [ 95.88609299],\n",
              "       [ 93.92083138],\n",
              "       [ 98.42677092],\n",
              "       [102.21098619],\n",
              "       [102.10775133],\n",
              "       [100.49204925],\n",
              "       [101.89674888],\n",
              "       [106.23858282],\n",
              "       [104.15744326],\n",
              "       [102.2168884 ],\n",
              "       [102.71192758],\n",
              "       [102.76044057],\n",
              "       [101.30605107],\n",
              "       [100.87416557],\n",
              "       [ 99.45881759],\n",
              "       [ 99.03437053],\n",
              "       [ 99.61188664],\n",
              "       [101.20125872],\n",
              "       [105.4377176 ],\n",
              "       [105.41514876],\n",
              "       [105.8706471 ],\n",
              "       [105.89176879],\n",
              "       [104.20784839],\n",
              "       [105.23957644],\n",
              "       [105.29370921],\n",
              "       [105.85005229],\n",
              "       [109.5805221 ],\n",
              "       [111.27913669],\n",
              "       [111.32247733],\n",
              "       [109.53086676],\n",
              "       [109.63525072],\n",
              "       [111.51764206],\n",
              "       [112.46911096],\n",
              "       [113.82102906],\n",
              "       [112.01212367],\n",
              "       [113.01412755],\n",
              "       [114.82362815],\n",
              "       [114.29852142],\n",
              "       [114.85817142],\n",
              "       [115.42082536],\n",
              "       [115.98559541],\n",
              "       [114.07314766],\n",
              "       [114.6893136 ],\n",
              "       [116.63430614],\n",
              "       [112.99498798],\n",
              "       [114.54992169],\n",
              "       [111.85526507],\n",
              "       [108.94249215],\n",
              "       [108.11406325],\n",
              "       [107.26901345],\n",
              "       [109.43084353],\n",
              "       [108.48712067],\n",
              "       [109.03769717],\n",
              "       [108.54113696],\n",
              "       [110.14229931],\n",
              "       [110.64731617],\n",
              "       [111.66765026],\n",
              "       [110.53479437],\n",
              "       [108.41707391],\n",
              "       [109.52105554],\n",
              "       [109.51319857],\n",
              "       [110.06634967],\n",
              "       [109.48267276],\n",
              "       [110.06038262],\n",
              "       [108.33105663],\n",
              "       [108.93919524],\n",
              "       [110.12425032],\n",
              "       [108.92802735],\n",
              "       [107.24738732],\n",
              "       [104.24486431],\n",
              "       [104.25584806]])"
            ]
          },
          "metadata": {},
          "execution_count": 299
        }
      ]
    },
    {
      "cell_type": "code",
      "source": [],
      "metadata": {
        "id": "9nuxOgErceIj"
      },
      "execution_count": null,
      "outputs": []
    },
    {
      "cell_type": "code",
      "source": [],
      "metadata": {
        "id": "vfbeOS-_ceLJ"
      },
      "execution_count": null,
      "outputs": []
    },
    {
      "cell_type": "code",
      "source": [],
      "metadata": {
        "id": "ak6syn71ceN6"
      },
      "execution_count": null,
      "outputs": []
    },
    {
      "cell_type": "code",
      "source": [],
      "metadata": {
        "id": "o16nIgN4ceQn"
      },
      "execution_count": null,
      "outputs": []
    },
    {
      "cell_type": "code",
      "source": [],
      "metadata": {
        "id": "NqFgI7ktceTP"
      },
      "execution_count": null,
      "outputs": []
    },
    {
      "cell_type": "code",
      "source": [
        "#Prepair Data\n",
        "df2 = pd.read_csv ('SET 50 Historical Data-2.csv')\n",
        "df2 = pd.DataFrame([price for price in df2['Price']], columns = ['price'])\n",
        "df2 = df.iloc[::-1]\n",
        "df2['price'] = df2['price'].replace({'\\$': '', ',': ''}, regex=True).astype(float)\n",
        "df2['EMA10']= ta.EMA(df['price'],10)\n",
        "\n",
        "ema_day = 21\n",
        "#df['return'] = df['price'].pct_change()\n",
        "df2['EMA10']= ta.EMA(df2['price'],10)\n",
        "df2['EMA21']= ta.EMA(df2['price'],ema_day)\n",
        "df2['RSI'] = ta.RSI(df2['price'], 14)\n",
        "\n",
        "df2=df2.iloc[ema_day-1:]\n",
        "\n",
        "\n",
        "\n",
        "ippred =df2.drop(columns=['price'],axis=1)\n",
        "test_predict2 = model.predict(ippred)\n",
        "\n",
        "\n",
        "y2 = df2['price']\n",
        "\n",
        "plt.plot(test_predict2)\n",
        "plt.plot(df2['price'])"
      ],
      "metadata": {
        "colab": {
          "base_uri": "https://localhost:8080/",
          "height": 337
        },
        "id": "cBKGSeaoULys",
        "outputId": "3d3d86fa-4c3e-459a-d12a-1fd72d900854"
      },
      "execution_count": null,
      "outputs": [
        {
          "output_type": "execute_result",
          "data": {
            "text/plain": [
              "[<matplotlib.lines.Line2D at 0x7f9e97af4ed0>]"
            ]
          },
          "metadata": {},
          "execution_count": 165
        },
        {
          "output_type": "display_data",
          "data": {
            "text/plain": [
              "<Figure size 720x360 with 1 Axes>"
            ],
            "image/png": "[encoded data removed]"
          },
          "metadata": {
            "needs_background": "light"
          }
        }
      ]
    },
    {
      "cell_type": "code",
      "source": [
        "\n",
        "print(\"Model Coefficients:\", model.coef_)\n",
        "print(\"Coefficient of Determination:\", r2_score(y2, test_predict2))\n",
        "print(\"Mean Absolute Error:\", mean_absolute_error(y2, test_predict2))\n",
        "print(\"Mean Absolute Percentage Error:\", mean_absolute_percentage_error(y2,test_predict2))\n",
        "print(\"Mean Squared Error:\", mean_squared_error(y2, test_predict2))\n",
        "print(\"Root Mean Squared Error:\",math.sqrt(mean_squared_error(y2, test_predict2)))"
      ],
      "metadata": {
        "colab": {
          "base_uri": "https://localhost:8080/"
        },
        "id": "_y7c0n_8XK1c",
        "outputId": "f9180a0d-942f-4459-c13e-8d891a05bfb8"
      },
      "execution_count": null,
      "outputs": [
        {
          "output_type": "stream",
          "name": "stdout",
          "text": [
            "Model Coefficients: [[ 1.25365778 -0.27228379  0.79407296]]\n",
            "Coefficient of Determination: 0.9898645956069135\n",
            "Mean Absolute Error: 7.213139108440025\n",
            "Mean Absolute Percentage Error: 0.007374733709758964\n",
            "Mean Squared Error: 113.02641166686354\n",
            "Root Mean Squared Error: 10.6313880404613\n"
          ]
        }
      ]
    }
  ]
}