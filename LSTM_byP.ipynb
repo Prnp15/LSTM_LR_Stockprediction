{
  "cells": [
    {
      "cell_type": "code",
      "execution_count": null,
      "metadata": {
        "colab": {
          "base_uri": "https://localhost:8080/"
        },
        "id": "YBKzAqPOXsQE",
        "outputId": "4083f715-8e03-4706-cfee-312fcd08b059"
      },
      "outputs": [
        {
          "output_type": "stream",
          "name": "stdout",
          "text": [
            "Looking in indexes: https://pypi.org/simple, https://us-python.pkg.dev/colab-wheels/public/simple/\n",
            "Collecting talib-binary\n",
            "  Downloading talib_binary-0.4.19-cp37-cp37m-manylinux1_x86_64.whl (2.4 MB)\n",
            "\u001b[K     |████████████████████████████████| 2.4 MB 5.3 MB/s \n",
            "\u001b[?25hRequirement already satisfied: numpy in /usr/local/lib/python3.7/dist-packages (from talib-binary) (1.21.6)\n",
            "Installing collected packages: talib-binary\n",
            "Successfully installed talib-binary-0.4.19\n"
          ]
        }
      ],
      "source": [
        "!pip install talib-binary"
      ]
    },
    {
      "cell_type": "code",
      "execution_count": null,
      "metadata": {
        "id": "xw8WuQ1RX55B"
      },
      "outputs": [],
      "source": [
        "import numpy as np\n",
        "import tensorflow as tf\n",
        "import requests\n",
        "from io import StringIO\n",
        "import matplotlib.pyplot as plt \n",
        "import pandas as pd\n",
        "from tensorflow import keras\n",
        "from tensorflow.keras import layers\n",
        "import talib as ta\n",
        "import json\n",
        "from keras.models import Sequential\n",
        "from keras.layers import Activation, Dense, Dropout, LSTM, Bidirectional\n",
        "import seaborn as sns\n",
        "%matplotlib inline\n",
        "from sklearn.preprocessing import MinMaxScaler\n",
        "from sklearn.model_selection import train_test_split\n",
        "from sklearn.linear_model import LinearRegression\n",
        "from sklearn.metrics import mean_squared_error, r2_score, mean_absolute_error, mean_absolute_percentage_error\n",
        "import math\n",
        "from sklearn import model_selection\n",
        "\n",
        "\n",
        "\n",
        "#Import CSV file\n",
        "df = pd.read_csv ('SET 50 Historical Data.csv')\n",
        "df = df.iloc[::-1] #Switch the order\n",
        "\n",
        "df['Price'] = df['Price'].replace({'\\$': '', ',': ''}, regex=True).astype(float) #remove , and convert to float\n",
        "\n",
        "df = df.set_index('Date') #set Date\n",
        "df = df['Price']\n",
        "df = pd.DataFrame(df)\n",
        "target_col = 'Price'\n"
      ]
    },
    {
      "cell_type": "code",
      "source": [],
      "metadata": {
        "id": "fsDYNKqcw38T"
      },
      "execution_count": null,
      "outputs": []
    },
    {
      "cell_type": "code",
      "source": [],
      "metadata": {
        "id": "tw6faM3RSY5c"
      },
      "execution_count": null,
      "outputs": []
    },
    {
      "cell_type": "code",
      "source": [
        "# #Create EMA colum\n",
        "# df['EMA']= ta.EMA(df['Price'],20)\n",
        "# df = df['EMA']\n",
        "# df = df.replace((np.inf, -np.inf, np.nan), 0).reset_index(drop=True)\n"
      ],
      "metadata": {
        "id": "8uZoFGVkor2h"
      },
      "execution_count": null,
      "outputs": []
    },
    {
      "cell_type": "code",
      "source": [
        "#X_train, X_test, y_train, y_test = train_test_split(df[['Price']], df[['EMA']], test_size=.3,shuffle=False)\n"
      ],
      "metadata": {
        "id": "kr4YfdohMFmX"
      },
      "execution_count": null,
      "outputs": []
    },
    {
      "cell_type": "code",
      "source": [],
      "metadata": {
        "id": "5lUMIZ5lS3xf"
      },
      "execution_count": null,
      "outputs": []
    },
    {
      "cell_type": "code",
      "execution_count": null,
      "metadata": {
        "id": "rPEwcNCuATl-"
      },
      "outputs": [],
      "source": [
        "#Convert to Max Min\n",
        "\n",
        "scaler=MinMaxScaler(feature_range=(0,1))\n",
        "df=scaler.fit_transform(np.array(df).reshape(-1,1))#normal2\n",
        "\n",
        "\n",
        "# X_train=scaler.fit_transform(np.array(X_train).reshape(-1,1))\n",
        "# X_test=scaler.fit_transform(np.array(X_test).reshape(-1,1))\n",
        "# y_train=scaler.fit_transform(np.array(y_train).reshape(-1,1))\n",
        "# y_test=scaler.fit_transform(np.array(y_test).reshape(-1,1))"
      ]
    },
    {
      "cell_type": "code",
      "source": [],
      "metadata": {
        "id": "RO7W1yZ5Owmn"
      },
      "execution_count": null,
      "outputs": []
    },
    {
      "cell_type": "code",
      "execution_count": null,
      "metadata": {
        "id": "knYC2cTO7YBo"
      },
      "outputs": [],
      "source": [
        "#split2\n",
        "\n",
        "training_size=int(len(df)*0.8)\n",
        "test_size=len(df)-training_size\n",
        "train_data,test_data=df[0:training_size,:],df[training_size:len(df),:1]\n",
        "\n",
        "\n"
      ]
    },
    {
      "cell_type": "code",
      "source": [
        "plt.plot(y_test)"
      ],
      "metadata": {
        "colab": {
          "base_uri": "https://localhost:8080/",
          "height": 282
        },
        "id": "qB1weEBkTdNk",
        "outputId": "1c3a7ce2-a733-486e-cfae-7d486531cb16"
      },
      "execution_count": null,
      "outputs": [
        {
          "output_type": "execute_result",
          "data": {
            "text/plain": [
              "[<matplotlib.lines.Line2D at 0x7efea97f4450>]"
            ]
          },
          "metadata": {},
          "execution_count": 48
        },
        {
          "output_type": "display_data",
          "data": {
            "text/plain": [
              "<Figure size 432x288 with 1 Axes>"
            ],
            "image/png": "[encoded data removed]"
          },
          "metadata": {
            "needs_background": "light"
          }
        }
      ]
    },
    {
      "cell_type": "code",
      "execution_count": null,
      "metadata": {
        "colab": {
          "base_uri": "https://localhost:8080/"
        },
        "id": "XFAD2XVfC0wU",
        "outputId": "5e5cb949-ca0e-4ae7-83d1-dbd2064405fe"
      },
      "outputs": [
        {
          "output_type": "execute_result",
          "data": {
            "text/plain": [
              "(851, 1)"
            ]
          },
          "metadata": {},
          "execution_count": 57
        }
      ],
      "source": [
        "# train_data = np.array(train_data).reshape(-1,1)\n",
        "# test_data = np.array(test_data).reshape(-1,1)\n",
        "# train_data.shape\n"
      ]
    },
    {
      "cell_type": "code",
      "execution_count": null,
      "metadata": {
        "id": "b-nwCQQ-y7sB"
      },
      "outputs": [],
      "source": [
        "def create_dataset(input_data, time_step=1):\n",
        "  X,Y = [],[]\n",
        "  for i in range(len(input_data)-time_step-1):\n",
        "    a = input_data[i:i+time_step,0]\n",
        "    #a = a-input_data[i]\n",
        "    X.append(a)\n",
        "    #Y.append(input_data[i+time_step+1,0]-input_data[i+time_step,0])\n",
        "    #Y.append(input_data[i+time_step,0]-input_data[i+time_step-1,0])\n",
        "    Y.append(input_data[i + time_step, 0])#notmod\n",
        "\n",
        "  return np.array(X),np.array(Y)\n"
      ]
    },
    {
      "cell_type": "code",
      "execution_count": null,
      "metadata": {
        "id": "f3uhgPX2-eHW"
      },
      "outputs": [],
      "source": [
        "time_step = 5\n",
        "X_train, y_train = create_dataset(train_data, time_step)\n",
        "X_test, y_test = create_dataset(test_data, time_step)\n"
      ]
    },
    {
      "cell_type": "code",
      "source": [
        "print(y_train.shape,X_train.shape,X_test.shape,y_test.shape)"
      ],
      "metadata": {
        "id": "P8cLFW-8nCnc",
        "colab": {
          "base_uri": "https://localhost:8080/"
        },
        "outputId": "45cec485-e8db-49c7-e220-ce9398c6b68e"
      },
      "execution_count": null,
      "outputs": [
        {
          "output_type": "stream",
          "name": "stdout",
          "text": [
            "(830,) (830, 20) (345, 20) (345,)\n"
          ]
        }
      ]
    },
    {
      "cell_type": "code",
      "execution_count": null,
      "metadata": {
        "id": "x8h0vxvm6Es3"
      },
      "outputs": [],
      "source": [
        "# # set parameter for model\n",
        "# np.random.seed(42)\n",
        "# window_len = 10\n",
        "# zero_base = True\n",
        "# lstm_neurons = 100\n",
        "# epochs = 100\n",
        "# batch_size = 32\n",
        "# loss = 'mse'\n",
        "# dropout = 0.2\n",
        "# optimizer = 'adam'\n",
        "# test_size = 0.4"
      ]
    },
    {
      "cell_type": "code",
      "execution_count": null,
      "metadata": {
        "id": "MLxnUEiD7Egp"
      },
      "outputs": [],
      "source": [
        "# #Create model function\n",
        "# def build_lstm_model(input_data, output_size, neurons=100, activ_func='linear',\n",
        "#                      dropout=0.2, loss = 'mean_squared_error', optimizer='adam'):\n",
        "#     model = Sequential()\n",
        "#     model.add(LSTM(neurons, return_sequences=True, input_shape=(input_data.shape[1], input_data.shape[2])))\n",
        "#     model.add(Dropout(dropout))\n",
        "#     model.add(LSTM(neurons))\n",
        "#     model.add(Dense(output_size))\n",
        "#     #model.add(Activation(activ_func))\n",
        "\n",
        "#     model.compile(loss='mean_squared_error', optimizer='adam')\n",
        "#     return model"
      ]
    },
    {
      "cell_type": "code",
      "execution_count": null,
      "metadata": {
        "id": "uOmOsbZkYo9o"
      },
      "outputs": [],
      "source": [
        "model=keras.Sequential()\n",
        "model.add(layers.LSTM(50,return_sequences=True,input_shape=(X_train.shape[1],1)))\n",
        "model.add(Dropout(0.2))\n",
        "model.add(layers.LSTM(100,return_sequences=False))\n",
        "#model.add(layers.LSTM(50))\n",
        "model.add(Dropout(0.2))\n",
        "model.add(layers.Dense(1))\n",
        "model.compile(loss='mean_squared_error',optimizer='adam',metrics=['mean_squared_error'])\n",
        "#model.compile(loss='binary_crossentropy', optimizer='adam', metrics=['accuracy'])\n",
        "history = model.fit(X_train, y_train, validation_data=(X_test, y_test), batch_size= 64, epochs=50)"
      ]
    },
    {
      "cell_type": "code",
      "execution_count": null,
      "metadata": {
        "colab": {
          "base_uri": "https://localhost:8080/"
        },
        "id": "zc0EYVszFQ1J",
        "outputId": "ff4f2458-287f-44ba-e45e-f0c4703e7b50"
      },
      "outputs": [
        {
          "output_type": "stream",
          "name": "stdout",
          "text": [
            "Model: \"sequential_1\"\n",
            "_________________________________________________________________\n",
            " Layer (type)                Output Shape              Param #   \n",
            "=================================================================\n",
            " lstm_2 (LSTM)               (None, 5, 50)             10400     \n",
            "                                                                 \n",
            " dropout_1 (Dropout)         (None, 5, 50)             0         \n",
            "                                                                 \n",
            " lstm_3 (LSTM)               (None, 100)               60400     \n",
            "                                                                 \n",
            " dropout_2 (Dropout)         (None, 100)               0         \n",
            "                                                                 \n",
            " dense_1 (Dense)             (None, 1)                 101       \n",
            "                                                                 \n",
            "=================================================================\n",
            "Total params: 70,901\n",
            "Trainable params: 70,901\n",
            "Non-trainable params: 0\n",
            "_________________________________________________________________\n"
          ]
        }
      ],
      "source": [
        "#set up model\n",
        "#model = build_lstm_model(X_train, output_size=1, neurons=lstm_neurons, dropout=dropout, loss=loss,optimizer=optimizer)\n",
        "model.summary()"
      ]
    },
    {
      "cell_type": "code",
      "execution_count": null,
      "metadata": {
        "id": "3aL9VwgVFoNJ"
      },
      "outputs": [],
      "source": [
        "\n",
        "history = model.fit(X_train, y_train, validation_data=(X_test, y_test), batch_size= 64, epochs=50)"
      ]
    },
    {
      "cell_type": "code",
      "execution_count": null,
      "metadata": {
        "colab": {
          "base_uri": "https://localhost:8080/",
          "height": 295
        },
        "id": "geUKcjCMQNzQ",
        "outputId": "9bdadcb3-9e88-4bfe-f4c3-df9e6fca9c3a"
      },
      "outputs": [
        {
          "output_type": "display_data",
          "data": {
            "text/plain": [
              "<Figure size 432x288 with 1 Axes>"
            ],
            "image/png": "[encoded data removed]"
          },
          "metadata": {
            "needs_background": "light"
          }
        }
      ],
      "source": [
        "plt.plot(history.history['loss'],'b',linewidth=2, label='Train loss')\n",
        "plt.plot(history.history['val_loss'], 'g',linewidth=2, label='Validation loss')\n",
        "plt.title('LSTM')\n",
        "plt.xlabel('Epochs')\n",
        "plt.ylabel('MSE')\n",
        "plt.legend(['train', 'test'], loc='upper right')\n",
        "plt.show()"
      ]
    },
    {
      "cell_type": "code",
      "execution_count": null,
      "metadata": {
        "id": "jEnAerFuQhxB"
      },
      "outputs": [],
      "source": [
        "train_predict=model.predict(X_train)\n",
        "test_predict=model.predict(X_test)\n"
      ]
    },
    {
      "cell_type": "code",
      "execution_count": null,
      "metadata": {
        "id": "qgMBu8TTfcT0"
      },
      "outputs": [],
      "source": [
        "# #accuracy_test\n",
        "# model.save('accuracy')\n",
        "# y_test_dummies = pd.get_dummies(y_test).values\n",
        "# print('Shape of Label tensor: ', y_test_dummies.shape)# model evaluation\n",
        "# from keras.models import load_model\n",
        "\n",
        "# model = load_model('accuracy')\n",
        "# scores = model.evaluate(X_test, y_test_dummies)\n",
        "\n",
        "\n",
        "# LSTM_accuracy = scores[1]\n",
        "\n",
        "# print('Test accuracy: ', scores[1], '%')"
      ]
    },
    {
      "cell_type": "code",
      "source": [
        "#convert to normal price\n",
        "test_predict=scaler.inverse_transform(test_predict)"
      ],
      "metadata": {
        "id": "jzBg_U39SBs1"
      },
      "execution_count": null,
      "outputs": []
    },
    {
      "cell_type": "code",
      "source": [
        " y_test = y_test.reshape(-1,1)\n",
        " y_test2 = scaler.inverse_transform(y_test)\n"
      ],
      "metadata": {
        "id": "VAfbjoQKvtHs"
      },
      "execution_count": null,
      "outputs": []
    },
    {
      "cell_type": "code",
      "source": [],
      "metadata": {
        "id": "aNhQniQ-SSIZ"
      },
      "execution_count": null,
      "outputs": []
    },
    {
      "cell_type": "code",
      "source": [
        "# test_predict=scaler.fit_transform(np.array(test_predict).reshape(-1,1))"
      ],
      "metadata": {
        "id": "63FJHeVYIyfS"
      },
      "execution_count": null,
      "outputs": []
    },
    {
      "cell_type": "code",
      "execution_count": null,
      "metadata": {
        "id": "e417aFTzSZOs",
        "colab": {
          "base_uri": "https://localhost:8080/",
          "height": 265
        },
        "outputId": "3ea3009d-380f-4f76-c511-3134463aba24"
      },
      "outputs": [
        {
          "output_type": "display_data",
          "data": {
            "text/plain": [
              "<Figure size 432x288 with 1 Axes>"
            ],
            "image/png": "[encoded data removed]"
          },
          "metadata": {
            "needs_background": "light"
          }
        }
      ],
      "source": [
        "# # train_predict=scaler.inverse_transform(train_predict)\n",
        "# test_predict=scaler.inverse_transform(test_predict)\n",
        "# y_test2 = scaler.inverse_transform(y_test)\n",
        "\n",
        "plt.plot(y_test2,'r',label=\"actual price\")\n",
        "plt.grid(color='black', linestyle='-', linewidth=0.2)\n",
        "plt.rcParams[\"figure.figsize\"] = [40,15]\n",
        "plt.plot(test_predict,'b',label=\"predict price\")\n",
        "#plt.plot(dftest[-320:],'y')\n",
        "leg = plt.legend(loc='upper center')\n",
        "plt.show()\n",
        "\n",
        "\n"
      ]
    },
    {
      "cell_type": "code",
      "source": [
        "\n",
        "print(\"Mean Absolute Error:\", mean_absolute_error(y_test2, test_predict))\n",
        "print(\"Coefficient of Determination:\", r2_score(y_test2,test_predict))\n",
        "print(\"Mean Squared Error:\", mean_squared_error(y_test2, test_predict))\n",
        "print(\"Mean Per Error:\", mean_absolute_percentage_error(y_test2,test_predict))\n",
        "print(\"Root Mean Squared Error:\",math.sqrt(mean_squared_error(y_test2, test_predict)))"
      ],
      "metadata": {
        "colab": {
          "base_uri": "https://localhost:8080/"
        },
        "id": "hCvMfBoi06Dh",
        "outputId": "c7199812-ea00-4236-9e0d-24d51edc0121"
      },
      "execution_count": null,
      "outputs": [
        {
          "output_type": "stream",
          "name": "stdout",
          "text": [
            "Mean Absolute Error: 12.62049146290771\n",
            "Coefficient of Determination: 0.9286779943034393\n",
            "Mean Squared Error: 276.67557423152465\n",
            "Mean Per Error: 0.013938734292407919\n",
            "Root Mean Squared Error: 16.633567694019362\n"
          ]
        }
      ]
    },
    {
      "cell_type": "code",
      "source": [
        "count = 0\n",
        "for i in range (len(y_test2)):\n",
        "  if (y_test2[i]-y_test2[i-1]>0)==(test_predict[i]-test_predict[i-1]>0)or(y_test2[i]-y_test2[i-1]>0)==(test_predict[i]-test_predict[i-1]>0):\n",
        "    count = count+1"
      ],
      "metadata": {
        "id": "XneTPujKw8zg"
      },
      "execution_count": null,
      "outputs": []
    },
    {
      "cell_type": "code",
      "source": [
        "Acc =  (count*100)/(len(y_test2-1))\n",
        "print('Accuracy',Acc,'%')"
      ],
      "metadata": {
        "colab": {
          "base_uri": "https://localhost:8080/"
        },
        "id": "XU5zjXvTxCf-",
        "outputId": "7d9f455b-4309-4733-b0c9-ac5edf1702a7"
      },
      "execution_count": null,
      "outputs": [
        {
          "output_type": "stream",
          "name": "stdout",
          "text": [
            "Accuracy 50.72886297376093 %\n"
          ]
        }
      ]
    }
  ],
  "metadata": {
    "colab": {
      "provenance": []
    },
    "kernelspec": {
      "display_name": "Python 3",
      "name": "python3"
    },
    "language_info": {
      "name": "python"
    }
  },
  "nbformat": 4,
  "nbformat_minor": 0
}